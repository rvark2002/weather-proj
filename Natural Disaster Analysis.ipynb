{
 "cells": [
  {
   "cell_type": "markdown",
   "id": "3ac8585e",
   "metadata": {},
   "source": [
    "# Analysis of Natural Disasters in US over Time"
   ]
  },
  {
   "cell_type": "markdown",
   "id": "d4dc8aec",
   "metadata": {},
   "source": [
    "## Ritvik Varkhedkar and Thomas Klaus"
   ]
  },
  {
   "cell_type": "markdown",
   "id": "6da2c9c8",
   "metadata": {},
   "source": [
    "## Introduction"
   ]
  },
  {
   "cell_type": "markdown",
   "id": "e80f9ac4",
   "metadata": {},
   "source": [
    "Intro will go here"
   ]
  },
  {
   "cell_type": "markdown",
   "id": "cc72f90d",
   "metadata": {},
   "source": [
    "## Required Libraries"
   ]
  },
  {
   "cell_type": "code",
   "execution_count": 83,
   "id": "50c297a4",
   "metadata": {},
   "outputs": [],
   "source": [
    "# Imports\n",
    "import requests\n",
    "import sqlite3\n",
    "import pandas as pd\n",
    "import numpy as np\n",
    "import matplotlib.pyplot as plt\n",
    "import random"
   ]
  },
  {
   "cell_type": "markdown",
   "id": "19150ce6",
   "metadata": {},
   "source": [
    "## Initial Cleaning"
   ]
  },
  {
   "cell_type": "code",
   "execution_count": 84,
   "id": "a8d0df5c",
   "metadata": {},
   "outputs": [
    {
     "data": {
      "text/html": [
       "<div>\n",
       "<style scoped>\n",
       "    .dataframe tbody tr th:only-of-type {\n",
       "        vertical-align: middle;\n",
       "    }\n",
       "\n",
       "    .dataframe tbody tr th {\n",
       "        vertical-align: top;\n",
       "    }\n",
       "\n",
       "    .dataframe thead th {\n",
       "        text-align: right;\n",
       "    }\n",
       "</style>\n",
       "<table border=\"1\" class=\"dataframe\">\n",
       "  <thead>\n",
       "    <tr style=\"text-align: right;\">\n",
       "      <th></th>\n",
       "      <th>fema_declaration_string</th>\n",
       "      <th>disaster_number</th>\n",
       "      <th>state</th>\n",
       "      <th>declaration_type</th>\n",
       "      <th>declaration_date</th>\n",
       "      <th>fy_declared</th>\n",
       "      <th>incident_type</th>\n",
       "      <th>declaration_title</th>\n",
       "      <th>ih_program_declared</th>\n",
       "      <th>ia_program_declared</th>\n",
       "      <th>...</th>\n",
       "      <th>incident_begin_date</th>\n",
       "      <th>incident_end_date</th>\n",
       "      <th>disaster_closeout_date</th>\n",
       "      <th>fips</th>\n",
       "      <th>place_code</th>\n",
       "      <th>designated_area</th>\n",
       "      <th>declaration_request_number</th>\n",
       "      <th>hash</th>\n",
       "      <th>last_refresh</th>\n",
       "      <th>id</th>\n",
       "    </tr>\n",
       "  </thead>\n",
       "  <tbody>\n",
       "    <tr>\n",
       "      <th>0</th>\n",
       "      <td>DR-1-GA</td>\n",
       "      <td>1</td>\n",
       "      <td>GA</td>\n",
       "      <td>DR</td>\n",
       "      <td>1953-05-02T00:00:00Z</td>\n",
       "      <td>1953</td>\n",
       "      <td>Tornado</td>\n",
       "      <td>Tornado</td>\n",
       "      <td>0</td>\n",
       "      <td>1</td>\n",
       "      <td>...</td>\n",
       "      <td>1953-05-02T00:00:00Z</td>\n",
       "      <td>1953-05-02T00:00:00Z</td>\n",
       "      <td>1954-06-01T00:00:00Z</td>\n",
       "      <td>13000</td>\n",
       "      <td>0</td>\n",
       "      <td>Statewide</td>\n",
       "      <td>53013</td>\n",
       "      <td>bb121323c9c29d3bef0c9a3f134bfd8b5ecff148</td>\n",
       "      <td>2021-07-13T23:01:19Z</td>\n",
       "      <td>60c3b7a9a0ee349d71025780</td>\n",
       "    </tr>\n",
       "    <tr>\n",
       "      <th>1</th>\n",
       "      <td>DR-2-TX</td>\n",
       "      <td>2</td>\n",
       "      <td>TX</td>\n",
       "      <td>DR</td>\n",
       "      <td>1953-05-15T00:00:00Z</td>\n",
       "      <td>1953</td>\n",
       "      <td>Tornado</td>\n",
       "      <td>Tornado &amp; Heavy Rainfall</td>\n",
       "      <td>0</td>\n",
       "      <td>1</td>\n",
       "      <td>...</td>\n",
       "      <td>1953-05-15T00:00:00Z</td>\n",
       "      <td>1953-05-15T00:00:00Z</td>\n",
       "      <td>1958-01-01T00:00:00Z</td>\n",
       "      <td>48000</td>\n",
       "      <td>0</td>\n",
       "      <td>Statewide</td>\n",
       "      <td>53003</td>\n",
       "      <td>c879557e78d059e6847e7688388c339d10f51979</td>\n",
       "      <td>2021-07-13T23:01:19Z</td>\n",
       "      <td>60c3b7a9a0ee349d71025783</td>\n",
       "    </tr>\n",
       "    <tr>\n",
       "      <th>2</th>\n",
       "      <td>DR-3-LA</td>\n",
       "      <td>3</td>\n",
       "      <td>LA</td>\n",
       "      <td>DR</td>\n",
       "      <td>1953-05-29T00:00:00Z</td>\n",
       "      <td>1953</td>\n",
       "      <td>Flood</td>\n",
       "      <td>Flood</td>\n",
       "      <td>0</td>\n",
       "      <td>1</td>\n",
       "      <td>...</td>\n",
       "      <td>1953-05-29T00:00:00Z</td>\n",
       "      <td>1953-05-29T00:00:00Z</td>\n",
       "      <td>1960-02-01T00:00:00Z</td>\n",
       "      <td>22000</td>\n",
       "      <td>0</td>\n",
       "      <td>Statewide</td>\n",
       "      <td>53005</td>\n",
       "      <td>4fb19699fdbba1387ffa2263fcc4a4e37a1de6d6</td>\n",
       "      <td>2021-07-13T23:01:19Z</td>\n",
       "      <td>60c3b7a9a0ee349d71025777</td>\n",
       "    </tr>\n",
       "    <tr>\n",
       "      <th>3</th>\n",
       "      <td>DR-4-MI</td>\n",
       "      <td>4</td>\n",
       "      <td>MI</td>\n",
       "      <td>DR</td>\n",
       "      <td>1953-06-02T00:00:00Z</td>\n",
       "      <td>1953</td>\n",
       "      <td>Tornado</td>\n",
       "      <td>Tornado</td>\n",
       "      <td>0</td>\n",
       "      <td>1</td>\n",
       "      <td>...</td>\n",
       "      <td>1953-06-02T00:00:00Z</td>\n",
       "      <td>1953-06-02T00:00:00Z</td>\n",
       "      <td>1956-02-01T00:00:00Z</td>\n",
       "      <td>26000</td>\n",
       "      <td>0</td>\n",
       "      <td>Statewide</td>\n",
       "      <td>53004</td>\n",
       "      <td>87a0c1dd5da249767f545e0c0a43f917e4e9ca83</td>\n",
       "      <td>2021-07-13T23:01:19Z</td>\n",
       "      <td>60c3b7a9a0ee349d7102577a</td>\n",
       "    </tr>\n",
       "    <tr>\n",
       "      <th>4</th>\n",
       "      <td>DR-5-MT</td>\n",
       "      <td>5</td>\n",
       "      <td>MT</td>\n",
       "      <td>DR</td>\n",
       "      <td>1953-06-06T00:00:00Z</td>\n",
       "      <td>1953</td>\n",
       "      <td>Flood</td>\n",
       "      <td>Floods</td>\n",
       "      <td>0</td>\n",
       "      <td>1</td>\n",
       "      <td>...</td>\n",
       "      <td>1953-06-06T00:00:00Z</td>\n",
       "      <td>1953-06-06T00:00:00Z</td>\n",
       "      <td>1955-12-01T00:00:00Z</td>\n",
       "      <td>30000</td>\n",
       "      <td>0</td>\n",
       "      <td>Statewide</td>\n",
       "      <td>53006</td>\n",
       "      <td>954449c15634fb45c8bea3ac975782793ccde050</td>\n",
       "      <td>2021-07-13T23:01:19Z</td>\n",
       "      <td>60c3b7a9a0ee349d71025774</td>\n",
       "    </tr>\n",
       "  </tbody>\n",
       "</table>\n",
       "<p>5 rows × 22 columns</p>\n",
       "</div>"
      ],
      "text/plain": [
       "  fema_declaration_string  disaster_number state declaration_type  \\\n",
       "0                 DR-1-GA                1    GA               DR   \n",
       "1                 DR-2-TX                2    TX               DR   \n",
       "2                 DR-3-LA                3    LA               DR   \n",
       "3                 DR-4-MI                4    MI               DR   \n",
       "4                 DR-5-MT                5    MT               DR   \n",
       "\n",
       "       declaration_date  fy_declared incident_type         declaration_title  \\\n",
       "0  1953-05-02T00:00:00Z         1953       Tornado                   Tornado   \n",
       "1  1953-05-15T00:00:00Z         1953       Tornado  Tornado & Heavy Rainfall   \n",
       "2  1953-05-29T00:00:00Z         1953         Flood                     Flood   \n",
       "3  1953-06-02T00:00:00Z         1953       Tornado                   Tornado   \n",
       "4  1953-06-06T00:00:00Z         1953         Flood                    Floods   \n",
       "\n",
       "   ih_program_declared  ia_program_declared  ...   incident_begin_date  \\\n",
       "0                    0                    1  ...  1953-05-02T00:00:00Z   \n",
       "1                    0                    1  ...  1953-05-15T00:00:00Z   \n",
       "2                    0                    1  ...  1953-05-29T00:00:00Z   \n",
       "3                    0                    1  ...  1953-06-02T00:00:00Z   \n",
       "4                    0                    1  ...  1953-06-06T00:00:00Z   \n",
       "\n",
       "      incident_end_date disaster_closeout_date   fips place_code  \\\n",
       "0  1953-05-02T00:00:00Z   1954-06-01T00:00:00Z  13000          0   \n",
       "1  1953-05-15T00:00:00Z   1958-01-01T00:00:00Z  48000          0   \n",
       "2  1953-05-29T00:00:00Z   1960-02-01T00:00:00Z  22000          0   \n",
       "3  1953-06-02T00:00:00Z   1956-02-01T00:00:00Z  26000          0   \n",
       "4  1953-06-06T00:00:00Z   1955-12-01T00:00:00Z  30000          0   \n",
       "\n",
       "   designated_area  declaration_request_number  \\\n",
       "0        Statewide                       53013   \n",
       "1        Statewide                       53003   \n",
       "2        Statewide                       53005   \n",
       "3        Statewide                       53004   \n",
       "4        Statewide                       53006   \n",
       "\n",
       "                                       hash          last_refresh  \\\n",
       "0  bb121323c9c29d3bef0c9a3f134bfd8b5ecff148  2021-07-13T23:01:19Z   \n",
       "1  c879557e78d059e6847e7688388c339d10f51979  2021-07-13T23:01:19Z   \n",
       "2  4fb19699fdbba1387ffa2263fcc4a4e37a1de6d6  2021-07-13T23:01:19Z   \n",
       "3  87a0c1dd5da249767f545e0c0a43f917e4e9ca83  2021-07-13T23:01:19Z   \n",
       "4  954449c15634fb45c8bea3ac975782793ccde050  2021-07-13T23:01:19Z   \n",
       "\n",
       "                         id  \n",
       "0  60c3b7a9a0ee349d71025780  \n",
       "1  60c3b7a9a0ee349d71025783  \n",
       "2  60c3b7a9a0ee349d71025777  \n",
       "3  60c3b7a9a0ee349d7102577a  \n",
       "4  60c3b7a9a0ee349d71025774  \n",
       "\n",
       "[5 rows x 22 columns]"
      ]
     },
     "execution_count": 84,
     "metadata": {},
     "output_type": "execute_result"
    }
   ],
   "source": [
    "df = pd.read_csv(\"us_disaster_declarations.csv\")\n",
    "df.head()\n",
    "\n",
    "'''['Tornado',\n",
    " 'Flood',\n",
    " 'Fire',\n",
    " 'Hurricane',\n",
    " 'Volcano',\n",
    " 'Severe Storm(s)',\n",
    " 'Typhoon',\n",
    " 'Drought',\n",
    " 'Snow',\n",
    " 'Severe Ice Storm',\n",
    " 'Freezing',\n",
    " 'Coastal Storm',\n",
    " 'Mud/Landslide',\n",
    " 'Tsunami',]\n",
    " \n",
    " '''\n",
    "\n",
    "\n",
    "# Removing types of disaster unrelated to climate change:\n",
    "unrelated_types = ['Fishing Losses','Other', 'Volcano', 'Toxic Substances', 'Dam/Levee Break','Human Cause', 'Terrorist', 'Chemical', 'Biological']\n",
    "\n",
    "u_rows = []\n",
    "# For loop will loop through each row and keep track with a list which rows are unrelated\n",
    "for index, row in df.iterrows():\n",
    "    if row.incident_type  in unrelated_types:\n",
    "        u_rows.append(index)\n",
    "\n",
    "\n",
    "# Dropping rows of unrelated types\n",
    "df = df.drop(u_rows)\n",
    "\n",
    "df.head()"
   ]
  },
  {
   "cell_type": "markdown",
   "id": "94f2798b",
   "metadata": {},
   "source": [
    "## Removing Duplicate Disasters"
   ]
  },
  {
   "cell_type": "code",
   "execution_count": 86,
   "id": "304d07c3",
   "metadata": {},
   "outputs": [
    {
     "name": "stdout",
     "output_type": "stream",
     "text": [
      "4387\n"
     ]
    },
    {
     "data": {
      "text/html": [
       "<div>\n",
       "<style scoped>\n",
       "    .dataframe tbody tr th:only-of-type {\n",
       "        vertical-align: middle;\n",
       "    }\n",
       "\n",
       "    .dataframe tbody tr th {\n",
       "        vertical-align: top;\n",
       "    }\n",
       "\n",
       "    .dataframe thead th {\n",
       "        text-align: right;\n",
       "    }\n",
       "</style>\n",
       "<table border=\"1\" class=\"dataframe\">\n",
       "  <thead>\n",
       "    <tr style=\"text-align: right;\">\n",
       "      <th></th>\n",
       "      <th>fema_declaration_string</th>\n",
       "      <th>disaster_number</th>\n",
       "      <th>state</th>\n",
       "      <th>declaration_type</th>\n",
       "      <th>declaration_date</th>\n",
       "      <th>fy_declared</th>\n",
       "      <th>incident_type</th>\n",
       "      <th>declaration_title</th>\n",
       "      <th>ih_program_declared</th>\n",
       "      <th>ia_program_declared</th>\n",
       "      <th>...</th>\n",
       "      <th>incident_begin_date</th>\n",
       "      <th>incident_end_date</th>\n",
       "      <th>disaster_closeout_date</th>\n",
       "      <th>fips</th>\n",
       "      <th>place_code</th>\n",
       "      <th>designated_area</th>\n",
       "      <th>declaration_request_number</th>\n",
       "      <th>hash</th>\n",
       "      <th>last_refresh</th>\n",
       "      <th>id</th>\n",
       "    </tr>\n",
       "  </thead>\n",
       "  <tbody>\n",
       "    <tr>\n",
       "      <th>0</th>\n",
       "      <td>DR-1-GA</td>\n",
       "      <td>1</td>\n",
       "      <td>GA</td>\n",
       "      <td>DR</td>\n",
       "      <td>1953-05-02T00:00:00Z</td>\n",
       "      <td>1953</td>\n",
       "      <td>Tornado</td>\n",
       "      <td>Tornado</td>\n",
       "      <td>0</td>\n",
       "      <td>1</td>\n",
       "      <td>...</td>\n",
       "      <td>1953-05-02T00:00:00Z</td>\n",
       "      <td>1953-05-02T00:00:00Z</td>\n",
       "      <td>1954-06-01T00:00:00Z</td>\n",
       "      <td>13000</td>\n",
       "      <td>0</td>\n",
       "      <td>Statewide</td>\n",
       "      <td>53013</td>\n",
       "      <td>bb121323c9c29d3bef0c9a3f134bfd8b5ecff148</td>\n",
       "      <td>2021-07-13T23:01:19Z</td>\n",
       "      <td>60c3b7a9a0ee349d71025780</td>\n",
       "    </tr>\n",
       "    <tr>\n",
       "      <th>1</th>\n",
       "      <td>DR-2-TX</td>\n",
       "      <td>2</td>\n",
       "      <td>TX</td>\n",
       "      <td>DR</td>\n",
       "      <td>1953-05-15T00:00:00Z</td>\n",
       "      <td>1953</td>\n",
       "      <td>Tornado</td>\n",
       "      <td>Tornado &amp; Heavy Rainfall</td>\n",
       "      <td>0</td>\n",
       "      <td>1</td>\n",
       "      <td>...</td>\n",
       "      <td>1953-05-15T00:00:00Z</td>\n",
       "      <td>1953-05-15T00:00:00Z</td>\n",
       "      <td>1958-01-01T00:00:00Z</td>\n",
       "      <td>48000</td>\n",
       "      <td>0</td>\n",
       "      <td>Statewide</td>\n",
       "      <td>53003</td>\n",
       "      <td>c879557e78d059e6847e7688388c339d10f51979</td>\n",
       "      <td>2021-07-13T23:01:19Z</td>\n",
       "      <td>60c3b7a9a0ee349d71025783</td>\n",
       "    </tr>\n",
       "    <tr>\n",
       "      <th>2</th>\n",
       "      <td>DR-3-LA</td>\n",
       "      <td>3</td>\n",
       "      <td>LA</td>\n",
       "      <td>DR</td>\n",
       "      <td>1953-05-29T00:00:00Z</td>\n",
       "      <td>1953</td>\n",
       "      <td>Flood</td>\n",
       "      <td>Flood</td>\n",
       "      <td>0</td>\n",
       "      <td>1</td>\n",
       "      <td>...</td>\n",
       "      <td>1953-05-29T00:00:00Z</td>\n",
       "      <td>1953-05-29T00:00:00Z</td>\n",
       "      <td>1960-02-01T00:00:00Z</td>\n",
       "      <td>22000</td>\n",
       "      <td>0</td>\n",
       "      <td>Statewide</td>\n",
       "      <td>53005</td>\n",
       "      <td>4fb19699fdbba1387ffa2263fcc4a4e37a1de6d6</td>\n",
       "      <td>2021-07-13T23:01:19Z</td>\n",
       "      <td>60c3b7a9a0ee349d71025777</td>\n",
       "    </tr>\n",
       "    <tr>\n",
       "      <th>3</th>\n",
       "      <td>DR-4-MI</td>\n",
       "      <td>4</td>\n",
       "      <td>MI</td>\n",
       "      <td>DR</td>\n",
       "      <td>1953-06-02T00:00:00Z</td>\n",
       "      <td>1953</td>\n",
       "      <td>Tornado</td>\n",
       "      <td>Tornado</td>\n",
       "      <td>0</td>\n",
       "      <td>1</td>\n",
       "      <td>...</td>\n",
       "      <td>1953-06-02T00:00:00Z</td>\n",
       "      <td>1953-06-02T00:00:00Z</td>\n",
       "      <td>1956-02-01T00:00:00Z</td>\n",
       "      <td>26000</td>\n",
       "      <td>0</td>\n",
       "      <td>Statewide</td>\n",
       "      <td>53004</td>\n",
       "      <td>87a0c1dd5da249767f545e0c0a43f917e4e9ca83</td>\n",
       "      <td>2021-07-13T23:01:19Z</td>\n",
       "      <td>60c3b7a9a0ee349d7102577a</td>\n",
       "    </tr>\n",
       "    <tr>\n",
       "      <th>4</th>\n",
       "      <td>DR-5-MT</td>\n",
       "      <td>5</td>\n",
       "      <td>MT</td>\n",
       "      <td>DR</td>\n",
       "      <td>1953-06-06T00:00:00Z</td>\n",
       "      <td>1953</td>\n",
       "      <td>Flood</td>\n",
       "      <td>Floods</td>\n",
       "      <td>0</td>\n",
       "      <td>1</td>\n",
       "      <td>...</td>\n",
       "      <td>1953-06-06T00:00:00Z</td>\n",
       "      <td>1953-06-06T00:00:00Z</td>\n",
       "      <td>1955-12-01T00:00:00Z</td>\n",
       "      <td>30000</td>\n",
       "      <td>0</td>\n",
       "      <td>Statewide</td>\n",
       "      <td>53006</td>\n",
       "      <td>954449c15634fb45c8bea3ac975782793ccde050</td>\n",
       "      <td>2021-07-13T23:01:19Z</td>\n",
       "      <td>60c3b7a9a0ee349d71025774</td>\n",
       "    </tr>\n",
       "  </tbody>\n",
       "</table>\n",
       "<p>5 rows × 22 columns</p>\n",
       "</div>"
      ],
      "text/plain": [
       "  fema_declaration_string  disaster_number state declaration_type  \\\n",
       "0                 DR-1-GA                1    GA               DR   \n",
       "1                 DR-2-TX                2    TX               DR   \n",
       "2                 DR-3-LA                3    LA               DR   \n",
       "3                 DR-4-MI                4    MI               DR   \n",
       "4                 DR-5-MT                5    MT               DR   \n",
       "\n",
       "       declaration_date  fy_declared incident_type         declaration_title  \\\n",
       "0  1953-05-02T00:00:00Z         1953       Tornado                   Tornado   \n",
       "1  1953-05-15T00:00:00Z         1953       Tornado  Tornado & Heavy Rainfall   \n",
       "2  1953-05-29T00:00:00Z         1953         Flood                     Flood   \n",
       "3  1953-06-02T00:00:00Z         1953       Tornado                   Tornado   \n",
       "4  1953-06-06T00:00:00Z         1953         Flood                    Floods   \n",
       "\n",
       "   ih_program_declared  ia_program_declared  ...   incident_begin_date  \\\n",
       "0                    0                    1  ...  1953-05-02T00:00:00Z   \n",
       "1                    0                    1  ...  1953-05-15T00:00:00Z   \n",
       "2                    0                    1  ...  1953-05-29T00:00:00Z   \n",
       "3                    0                    1  ...  1953-06-02T00:00:00Z   \n",
       "4                    0                    1  ...  1953-06-06T00:00:00Z   \n",
       "\n",
       "      incident_end_date disaster_closeout_date   fips place_code  \\\n",
       "0  1953-05-02T00:00:00Z   1954-06-01T00:00:00Z  13000          0   \n",
       "1  1953-05-15T00:00:00Z   1958-01-01T00:00:00Z  48000          0   \n",
       "2  1953-05-29T00:00:00Z   1960-02-01T00:00:00Z  22000          0   \n",
       "3  1953-06-02T00:00:00Z   1956-02-01T00:00:00Z  26000          0   \n",
       "4  1953-06-06T00:00:00Z   1955-12-01T00:00:00Z  30000          0   \n",
       "\n",
       "   designated_area  declaration_request_number  \\\n",
       "0        Statewide                       53013   \n",
       "1        Statewide                       53003   \n",
       "2        Statewide                       53005   \n",
       "3        Statewide                       53004   \n",
       "4        Statewide                       53006   \n",
       "\n",
       "                                       hash          last_refresh  \\\n",
       "0  bb121323c9c29d3bef0c9a3f134bfd8b5ecff148  2021-07-13T23:01:19Z   \n",
       "1  c879557e78d059e6847e7688388c339d10f51979  2021-07-13T23:01:19Z   \n",
       "2  4fb19699fdbba1387ffa2263fcc4a4e37a1de6d6  2021-07-13T23:01:19Z   \n",
       "3  87a0c1dd5da249767f545e0c0a43f917e4e9ca83  2021-07-13T23:01:19Z   \n",
       "4  954449c15634fb45c8bea3ac975782793ccde050  2021-07-13T23:01:19Z   \n",
       "\n",
       "                         id  \n",
       "0  60c3b7a9a0ee349d71025780  \n",
       "1  60c3b7a9a0ee349d71025783  \n",
       "2  60c3b7a9a0ee349d71025777  \n",
       "3  60c3b7a9a0ee349d7102577a  \n",
       "4  60c3b7a9a0ee349d71025774  \n",
       "\n",
       "[5 rows x 22 columns]"
      ]
     },
     "execution_count": 86,
     "metadata": {},
     "output_type": "execute_result"
    }
   ],
   "source": [
    "disaster_nums = df['disaster_number'].drop_duplicates()\n",
    "\n",
    "num = 0\n",
    "disaster_nums = disaster_nums.to_list()\n",
    "repeated_disasters = []\n",
    "\n",
    "for index, row in df.iterrows():\n",
    "    if num > len(disaster_nums) - 1:\n",
    "        repeated_disasters.append(index)\n",
    "    elif row.disaster_number != disaster_nums[num]:\n",
    "        repeated_disasters.append(index)\n",
    "    else:\n",
    "        num += 1\n",
    "\n",
    "df = df.drop(repeated_disasters)\n",
    "print(len(df))\n",
    "\n",
    "df.head()"
   ]
  },
  {
   "cell_type": "markdown",
   "id": "a04a9eb8",
   "metadata": {},
   "source": [
    "## Mapping the Natural Disaster across the US in an interactive map"
   ]
  },
  {
   "cell_type": "markdown",
   "id": "28073cb2",
   "metadata": {},
   "source": [
    "In order to map these disasters on an interactive map , we need to know the longitude and latitude of the locations. However, we are NOT given this, so what we can do is go onto a website like \n",
    "\n",
    "https://www.latlong.net/category/states-236-14.html\n",
    "\n",
    "And pull the data from a table on there directly. The table on that site contains the state name and the longitude and latitude of the middle of the state"
   ]
  },
  {
   "cell_type": "markdown",
   "id": "1554bee5",
   "metadata": {},
   "source": [
    "## Pulling the State data"
   ]
  },
  {
   "cell_type": "code",
   "execution_count": 88,
   "id": "306abd27",
   "metadata": {},
   "outputs": [
    {
     "name": "stdout",
     "output_type": "stream",
     "text": [
      "[               Place Name   Latitude   Longitude\n",
      "0          Wisconsin, USA  44.500000  -89.500000\n",
      "1      West Virginia, USA  39.000000  -80.500000\n",
      "2        Vermont, the USA  44.000000  -72.699997\n",
      "3          Texas, the USA  31.000000 -100.000000\n",
      "4    South Dakota, the US  44.500000 -100.000000\n",
      "5    Rhode Island, the US  41.700001  -71.500000\n",
      "6          Oregon, the US  44.000000 -120.500000\n",
      "7           New York, USA  43.000000  -75.000000\n",
      "8   New Hampshire, the US  44.000000  -71.500000\n",
      "9        Nebraska, the US  41.500000 -100.000000\n",
      "10         Kansas, the US  38.500000  -98.000000\n",
      "11    Mississippi, the US  33.000000  -90.000000\n",
      "12          Illinois, USA  40.000000  -89.000000\n",
      "13       Delaware, the US  39.000000  -75.500000\n",
      "14    Connecticut, the US  41.599998  -72.699997\n",
      "15       Arkansas, the US  34.799999  -92.199997\n",
      "16           Indiana, USA  40.273502  -86.126976\n",
      "17          Missouri, USA  38.573936  -92.603760\n",
      "18           Florida, USA  27.994402  -81.760254\n",
      "19            Nevada, USA  39.876019 -117.224121\n",
      "20         Maine, the USA  45.367584  -68.972168\n",
      "21          Michigan, USA  44.182205  -84.506836\n",
      "22       Georgia, the USA  33.247875  -83.441162\n",
      "23            Hawaii, USA  19.741755 -155.844437\n",
      "24            Alaska, USA  66.160507 -153.369141\n",
      "25         Tennessee, USA  35.860119  -86.660156\n",
      "26          Virginia, USA  37.926868  -78.024902\n",
      "27        New Jersey, USA  39.833851  -74.871826\n",
      "28          Kentucky, USA  37.839333  -84.270020\n",
      "29      North Dakota, USA  47.650589 -100.437012\n",
      "30         Minnesota, USA  46.392410  -94.636230\n",
      "31      Oklahoma, the USA  36.084621  -96.921387\n",
      "32           Montana, USA  46.965260 -109.533691\n",
      "33    Washington, the USA  47.751076 -120.740135\n",
      "34              Utah, USA  39.419220 -111.950684\n",
      "35          Colorado, USA  39.113014 -105.358887\n",
      "36              Ohio, USA  40.367474  -82.996216\n",
      "37           Alabama, USA  32.318230  -86.902298\n",
      "38          Iowa, the USA  42.032974  -93.581543\n",
      "39        New Mexico, USA  34.307144 -106.018066\n",
      "40    South Carolina, USA  33.836082  -81.163727\n",
      "41      Pennsylvania, USA  41.203323  -77.194527\n",
      "42           Arizona, USA  34.048927 -111.093735\n",
      "43          Maryland, USA  39.045753  -76.641273\n",
      "44     Massachusetts, USA  42.407211  -71.382439\n",
      "45    California, the USA  36.778259 -119.417931\n",
      "46             Idaho, USA  44.068203 -114.742043\n",
      "47           Wyoming, USA  43.075970 -107.290283\n",
      "48    North Carolina, USA  35.782169  -80.793457\n",
      "49         Louisiana, USA  30.391830  -92.329102]\n"
     ]
    }
   ],
   "source": [
    "from bs4 import BeautifulSoup\n",
    "import pandas as pd\n",
    "import numpy\n",
    "import requests\n",
    "import datetime\n",
    "\n",
    "r = requests.get(\"https://rvark2002.github.io/Stateswithlatlong.html\")\n",
    "\n",
    "root = BeautifulSoup( r.content, 'html.parser')\n",
    "\n",
    "data = root.find(\"body\").find(\"main\").findAll(\"table\")\n",
    "\n",
    "data = str(data)\n",
    "data = data[2500:]\n",
    "\n",
    "state_table = pd.read_html(str(data))\n",
    "\n",
    "print(state_table)"
   ]
  },
  {
   "cell_type": "markdown",
   "id": "121efcdd",
   "metadata": {},
   "source": [
    "## Modifying the table\n",
    "\n",
    "Unfortunately for us, the Location in the table above is not in the state abbreviation format that we want so our next task is to fix that"
   ]
  },
  {
   "cell_type": "code",
   "execution_count": 89,
   "id": "2afed48b",
   "metadata": {},
   "outputs": [
    {
     "name": "stdout",
     "output_type": "stream",
     "text": [
      "   Place Name   Latitude   Longitude\n",
      "0          WI  44.500000  -89.500000\n",
      "1          WV  39.000000  -80.500000\n",
      "2          VT  44.000000  -72.699997\n",
      "3          TX  31.000000 -100.000000\n",
      "4          SD  44.500000 -100.000000\n",
      "5          RI  41.700001  -71.500000\n",
      "6          OR  44.000000 -120.500000\n",
      "7          NY  43.000000  -75.000000\n",
      "8          NH  44.000000  -71.500000\n",
      "9          NE  41.500000 -100.000000\n",
      "10         KS  38.500000  -98.000000\n",
      "11         MS  33.000000  -90.000000\n",
      "12         IL  40.000000  -89.000000\n",
      "13         DE  39.000000  -75.500000\n",
      "14         CT  41.599998  -72.699997\n",
      "15         AR  34.799999  -92.199997\n",
      "16         IN  40.273502  -86.126976\n",
      "17         MO  38.573936  -92.603760\n",
      "18         FL  27.994402  -81.760254\n",
      "19         NV  39.876019 -117.224121\n",
      "20         ME  45.367584  -68.972168\n",
      "21         MI  44.182205  -84.506836\n",
      "22         GA  33.247875  -83.441162\n",
      "23         HI  19.741755 -155.844437\n",
      "24         AK  66.160507 -153.369141\n",
      "25         TN  35.860119  -86.660156\n",
      "26         VA  37.926868  -78.024902\n",
      "27         NJ  39.833851  -74.871826\n",
      "28         KY  37.839333  -84.270020\n",
      "29         ND  47.650589 -100.437012\n",
      "30         MN  46.392410  -94.636230\n",
      "31         OK  36.084621  -96.921387\n",
      "32         MT  46.965260 -109.533691\n",
      "33         WA  47.751076 -120.740135\n",
      "34         UT  39.419220 -111.950684\n",
      "35         CO  39.113014 -105.358887\n",
      "36         OH  40.367474  -82.996216\n",
      "37         AL  32.318230  -86.902298\n",
      "38         IA  42.032974  -93.581543\n",
      "39         NM  34.307144 -106.018066\n",
      "40         SC  33.836082  -81.163727\n",
      "41         PA  41.203323  -77.194527\n",
      "42         AZ  34.048927 -111.093735\n",
      "43         MD  39.045753  -76.641273\n",
      "44         MA  42.407211  -71.382439\n",
      "45         CA  36.778259 -119.417931\n",
      "46         ID  44.068203 -114.742043\n",
      "47         WY  43.075970 -107.290283\n",
      "48         NC  35.782169  -80.793457\n",
      "49         LA  30.391830  -92.329102\n"
     ]
    }
   ],
   "source": [
    "from bs4 import BeautifulSoup\n",
    "import pandas as pd\n",
    "import numpy\n",
    "import requests\n",
    "import datetime\n",
    "import folium\n",
    "\n",
    "r = requests.get(\"https://rvark2002.github.io/Stateswithlatlong.html\")\n",
    "\n",
    "root = BeautifulSoup( r.content, 'html.parser')\n",
    "\n",
    "data = root.find(\"body\").find(\"main\").findAll(\"table\")\n",
    "\n",
    "data = str(data)\n",
    "data = data[2500:]\n",
    "\n",
    "state_table = pd.read_html(str(data))\n",
    "\n",
    "state_df = state_table[0]\n",
    "state_to_abbrev = {\n",
    "    \"Alabama\": \"AL\",\n",
    "    \"Alaska\": \"AK\",\n",
    "    \"Arizona\": \"AZ\",\n",
    "    \"Arkansas\": \"AR\",\n",
    "    \"California\": \"CA\",\n",
    "    \"Colorado\": \"CO\",\n",
    "    \"Connecticut\": \"CT\",\n",
    "    \"Delaware\": \"DE\",\n",
    "    \"Florida\": \"FL\",\n",
    "    \"Georgia\": \"GA\",\n",
    "    \"Hawaii\": \"HI\",\n",
    "    \"Idaho\": \"ID\",\n",
    "    \"Illinois\": \"IL\",\n",
    "    \"Indiana\": \"IN\",\n",
    "    \"Iowa\": \"IA\",\n",
    "    \"Kansas\": \"KS\",\n",
    "    \"Kentucky\": \"KY\",\n",
    "    \"Louisiana\": \"LA\",\n",
    "    \"Maine\": \"ME\",\n",
    "    \"Maryland\": \"MD\",\n",
    "    \"Massachusetts\": \"MA\",\n",
    "    \"Michigan\": \"MI\",\n",
    "    \"Minnesota\": \"MN\",\n",
    "    \"Mississippi\": \"MS\",\n",
    "    \"Missouri\": \"MO\",\n",
    "    \"Montana\": \"MT\",\n",
    "    \"Nebraska\": \"NE\",\n",
    "    \"Nevada\": \"NV\",\n",
    "    \"New Hampshire\": \"NH\",\n",
    "    \"New Jersey\": \"NJ\",\n",
    "    \"New Mexico\": \"NM\",\n",
    "    \"New York\": \"NY\",\n",
    "    \"North Carolina\": \"NC\",\n",
    "    \"North Dakota\": \"ND\",\n",
    "    \"Ohio\": \"OH\",\n",
    "    \"Oklahoma\": \"OK\",\n",
    "    \"Oregon\": \"OR\",\n",
    "    \"Pennsylvania\": \"PA\",\n",
    "    \"Rhode Island\": \"RI\",\n",
    "    \"South Carolina\": \"SC\",\n",
    "    \"South Dakota\": \"SD\",\n",
    "    \"Tennessee\": \"TN\",\n",
    "    \"Texas\": \"TX\",\n",
    "    \"Utah\": \"UT\",\n",
    "    \"Vermont\": \"VT\",\n",
    "    \"Virginia\": \"VA\",\n",
    "    \"Washington\": \"WA\",\n",
    "    \"West Virginia\": \"WV\",\n",
    "    \"Wisconsin\": \"WI\",\n",
    "    \"Wyoming\": \"WY\",\n",
    "}\n",
    "\n",
    "for i, row in state_df.iterrows():\n",
    "    s = str(state_df.at[i,'Place Name'])   \n",
    "    s = s[0:s.index(\",\")];\n",
    "    state_df.at[i,'Place Name'] = state_to_abbrev[s]\n",
    "    \n",
    "print(state_df)"
   ]
  },
  {
   "cell_type": "markdown",
   "id": "e99617a9",
   "metadata": {},
   "source": [
    "## Plotting the points!\n",
    "\n",
    "Great now that we have redid the table so that its in state abbreviation form, lets plot our points"
   ]
  },
  {
   "cell_type": "code",
   "execution_count": 117,
   "id": "3ec11f67",
   "metadata": {},
   "outputs": [],
   "source": [
    "\n",
    "#Working on the map\n",
    "\n",
    "#Dictionary of all weather types and color code\n",
    "weather_to_color = {\n",
    "    \"Coastal Storm\": 'darkblue',\n",
    "    \"Drought\": 'orange',\n",
    "    'Earthquake': 'green',\n",
    "    'Fire': 'red',\n",
    "    'Flood': 'purple',\n",
    "    'Freezing': 'darkpurple',\n",
    "    'Hurricane': 'pink',\n",
    "    'Mud/Landslide': 'beige',\n",
    "    'Severe Ice Storm': 'blue',\n",
    "    'Severe Storm(s)': 'lightgray',\n",
    "    'Snow': 'white',\n",
    "    'Tornado': 'lightred',\n",
    "    'Tsunami': 'cadetblue',\n",
    "    'Typhoon': 'lightblue',\n",
    "    \n",
    "}\n",
    "\n",
    "map_osm = folium.Map(location=[39.29, -76.61], zoom_start=5)\n",
    "\n",
    "for index,row in df.iterrows():\n",
    "        if df.at[index,'fy_declared'] > 2017:\n",
    "            color = weather_to_color[df.at[index,'incident_type']]\n",
    "            state = df.at[index,'state']\n",
    "            desc = 'Incident: '+df.at[index,'incident_type']+'\\nState: '+state+'\\nDate: '+df.at[index,'declaration_date']+'\\nFema Declaration '+df.at[index,'fema_declaration_string']  \n",
    "            lat = \"15\"\n",
    "            long = \"145\"\n",
    "            \n",
    "            randomval1 = random.uniform(-1.20,1.20)\n",
    "            randomval2 = random.uniform(-1.20,1.20)\n",
    "            #to prevent clutter ^\n",
    "        \n",
    "            for j,r in state_df.iterrows():\n",
    "                if state_df.at[j,'Place Name'] == state:\n",
    "                    lat = str(float(state_df.at[j,'Latitude']) + randomval1)\n",
    "                    long = str(float(state_df.at[j,'Longitude']) + randomval2)\n",
    "            \n",
    "            \n",
    "            folium.Marker(\n",
    "            location=[lat,long],\n",
    "            popup=str(desc),\n",
    "            icon=folium.Icon(color=color),\n",
    "            ).add_to(map_osm)\n",
    "       \n",
    "\n",
    "#map_osm     "
   ]
  },
  {
   "cell_type": "markdown",
   "id": "ee7a02ed",
   "metadata": {},
   "source": [
    "## \n",
    "\n"
   ]
  },
  {
   "cell_type": "markdown",
   "id": "44bac51d",
   "metadata": {},
   "source": [
    "## Natural Disaster Totals Per Year"
   ]
  },
  {
   "cell_type": "code",
   "execution_count": 94,
   "id": "0b631da3",
   "metadata": {},
   "outputs": [
    {
     "name": "stdout",
     "output_type": "stream",
     "text": [
      "type  Coastal Storm  Drought  Earthquake  Fire  Flood  Freezing  Hurricane  \\\n",
      "year                                                                         \n",
      "1953            0.0      0.0         0.0   1.0    4.0       0.0        0.0   \n",
      "1954            0.0      0.0         1.0   0.0    6.0       0.0        4.0   \n",
      "1955            0.0      0.0         0.0   0.0    7.0       0.0       10.0   \n",
      "1956            0.0      0.0         0.0   0.0   10.0       0.0        1.0   \n",
      "1957            0.0      0.0         0.0   1.0   10.0       0.0        3.0   \n",
      "\n",
      "type  Mud/Landslide  Severe Ice Storm  Severe Storm(s)  Snow  Tornado  \\\n",
      "year                                                                    \n",
      "1953            0.0               0.0              0.0   0.0      5.0   \n",
      "1954            0.0               0.0              0.0   0.0      2.0   \n",
      "1955            0.0               0.0              0.0   0.0      1.0   \n",
      "1956            0.0               0.0              3.0   0.0      2.0   \n",
      "1957            0.0               0.0              0.0   0.0      3.0   \n",
      "\n",
      "type  Tsunami  Typhoon  totals  \n",
      "year                            \n",
      "1953      0.0      0.0    10.0  \n",
      "1954      0.0      0.0    13.0  \n",
      "1955      0.0      0.0    18.0  \n",
      "1956      0.0      0.0    16.0  \n",
      "1957      0.0      0.0    17.0  \n"
     ]
    }
   ],
   "source": [
    "# Getting number of natural disasters per year:\n",
    "\n",
    "pd.set_option('display.max_rows', df.shape[0]+1)\n",
    "print(pdf.head())"
   ]
  },
  {
   "cell_type": "code",
   "execution_count": 116,
   "id": "2bcd77b0",
   "metadata": {},
   "outputs": [
    {
     "data": {
      "text/html": [
       "<div>\n",
       "<style scoped>\n",
       "    .dataframe tbody tr th:only-of-type {\n",
       "        vertical-align: middle;\n",
       "    }\n",
       "\n",
       "    .dataframe tbody tr th {\n",
       "        vertical-align: top;\n",
       "    }\n",
       "\n",
       "    .dataframe thead th {\n",
       "        text-align: right;\n",
       "    }\n",
       "</style>\n",
       "<table border=\"1\" class=\"dataframe\">\n",
       "  <thead>\n",
       "    <tr style=\"text-align: right;\">\n",
       "      <th>type</th>\n",
       "      <th>Coastal Storm</th>\n",
       "      <th>Drought</th>\n",
       "      <th>Earthquake</th>\n",
       "      <th>Fire</th>\n",
       "      <th>Flood</th>\n",
       "      <th>Freezing</th>\n",
       "      <th>Hurricane</th>\n",
       "      <th>Mud/Landslide</th>\n",
       "      <th>Severe Ice Storm</th>\n",
       "      <th>Severe Storm(s)</th>\n",
       "      <th>Snow</th>\n",
       "      <th>Tornado</th>\n",
       "      <th>Tsunami</th>\n",
       "      <th>Typhoon</th>\n",
       "      <th>year</th>\n",
       "      <th>totals</th>\n",
       "    </tr>\n",
       "    <tr>\n",
       "      <th>year</th>\n",
       "      <th></th>\n",
       "      <th></th>\n",
       "      <th></th>\n",
       "      <th></th>\n",
       "      <th></th>\n",
       "      <th></th>\n",
       "      <th></th>\n",
       "      <th></th>\n",
       "      <th></th>\n",
       "      <th></th>\n",
       "      <th></th>\n",
       "      <th></th>\n",
       "      <th></th>\n",
       "      <th></th>\n",
       "      <th></th>\n",
       "      <th></th>\n",
       "    </tr>\n",
       "  </thead>\n",
       "  <tbody>\n",
       "    <tr>\n",
       "      <th>2016</th>\n",
       "      <td>1.0</td>\n",
       "      <td>0.0</td>\n",
       "      <td>0.0</td>\n",
       "      <td>40.0</td>\n",
       "      <td>15.0</td>\n",
       "      <td>0.0</td>\n",
       "      <td>1.0</td>\n",
       "      <td>0.0</td>\n",
       "      <td>1.0</td>\n",
       "      <td>19.0</td>\n",
       "      <td>5.0</td>\n",
       "      <td>1.0</td>\n",
       "      <td>0.0</td>\n",
       "      <td>0.0</td>\n",
       "      <td>2016</td>\n",
       "      <td>2099</td>\n",
       "    </tr>\n",
       "    <tr>\n",
       "      <th>2017</th>\n",
       "      <td>0.0</td>\n",
       "      <td>0.0</td>\n",
       "      <td>0.0</td>\n",
       "      <td>61.0</td>\n",
       "      <td>14.0</td>\n",
       "      <td>0.0</td>\n",
       "      <td>27.0</td>\n",
       "      <td>1.0</td>\n",
       "      <td>1.0</td>\n",
       "      <td>24.0</td>\n",
       "      <td>2.0</td>\n",
       "      <td>4.0</td>\n",
       "      <td>0.0</td>\n",
       "      <td>0.0</td>\n",
       "      <td>2017</td>\n",
       "      <td>2151</td>\n",
       "    </tr>\n",
       "    <tr>\n",
       "      <th>2018</th>\n",
       "      <td>3.0</td>\n",
       "      <td>0.0</td>\n",
       "      <td>0.0</td>\n",
       "      <td>70.0</td>\n",
       "      <td>18.0</td>\n",
       "      <td>0.0</td>\n",
       "      <td>18.0</td>\n",
       "      <td>1.0</td>\n",
       "      <td>0.0</td>\n",
       "      <td>16.0</td>\n",
       "      <td>3.0</td>\n",
       "      <td>1.0</td>\n",
       "      <td>0.0</td>\n",
       "      <td>3.0</td>\n",
       "      <td>2018</td>\n",
       "      <td>2151</td>\n",
       "    </tr>\n",
       "    <tr>\n",
       "      <th>2019</th>\n",
       "      <td>1.0</td>\n",
       "      <td>0.0</td>\n",
       "      <td>3.0</td>\n",
       "      <td>17.0</td>\n",
       "      <td>29.0</td>\n",
       "      <td>0.0</td>\n",
       "      <td>17.0</td>\n",
       "      <td>0.0</td>\n",
       "      <td>0.0</td>\n",
       "      <td>28.0</td>\n",
       "      <td>0.0</td>\n",
       "      <td>2.0</td>\n",
       "      <td>0.0</td>\n",
       "      <td>3.0</td>\n",
       "      <td>2019</td>\n",
       "      <td>2119</td>\n",
       "    </tr>\n",
       "    <tr>\n",
       "      <th>2020</th>\n",
       "      <td>1.0</td>\n",
       "      <td>0.0</td>\n",
       "      <td>3.0</td>\n",
       "      <td>88.0</td>\n",
       "      <td>6.0</td>\n",
       "      <td>0.0</td>\n",
       "      <td>22.0</td>\n",
       "      <td>0.0</td>\n",
       "      <td>0.0</td>\n",
       "      <td>23.0</td>\n",
       "      <td>0.0</td>\n",
       "      <td>3.0</td>\n",
       "      <td>0.0</td>\n",
       "      <td>2.0</td>\n",
       "      <td>2020</td>\n",
       "      <td>2168</td>\n",
       "    </tr>\n",
       "  </tbody>\n",
       "</table>\n",
       "</div>"
      ],
      "text/plain": [
       "type  Coastal Storm  Drought  Earthquake  Fire  Flood  Freezing  Hurricane  \\\n",
       "year                                                                         \n",
       "2016            1.0      0.0         0.0  40.0   15.0       0.0        1.0   \n",
       "2017            0.0      0.0         0.0  61.0   14.0       0.0       27.0   \n",
       "2018            3.0      0.0         0.0  70.0   18.0       0.0       18.0   \n",
       "2019            1.0      0.0         3.0  17.0   29.0       0.0       17.0   \n",
       "2020            1.0      0.0         3.0  88.0    6.0       0.0       22.0   \n",
       "\n",
       "type  Mud/Landslide  Severe Ice Storm  Severe Storm(s)  Snow  Tornado  \\\n",
       "year                                                                    \n",
       "2016            0.0               1.0             19.0   5.0      1.0   \n",
       "2017            1.0               1.0             24.0   2.0      4.0   \n",
       "2018            1.0               0.0             16.0   3.0      1.0   \n",
       "2019            0.0               0.0             28.0   0.0      2.0   \n",
       "2020            0.0               0.0             23.0   0.0      3.0   \n",
       "\n",
       "type  Tsunami  Typhoon  year  totals  \n",
       "year                                  \n",
       "2016      0.0      0.0  2016    2099  \n",
       "2017      0.0      0.0  2017    2151  \n",
       "2018      0.0      3.0  2018    2151  \n",
       "2019      0.0      3.0  2019    2119  \n",
       "2020      0.0      2.0  2020    2168  "
      ]
     },
     "execution_count": 116,
     "metadata": {},
     "output_type": "execute_result"
    }
   ],
   "source": [
    "if 'totals' in pdf.columns:\n",
    "    pdf = pdf.drop('totals',1)\n",
    "totals = []\n",
    "for index, row in pdf.iterrows():\n",
    "    t = 0\n",
    "    for i in row:\n",
    "        t += i\n",
    "    totals.append(int(t))\n",
    "pdf['totals'] = totals\n",
    "pdf.tail()\n",
    "\n"
   ]
  },
  {
   "cell_type": "code",
   "execution_count": 111,
   "id": "2350f542",
   "metadata": {},
   "outputs": [
    {
     "data": {
      "text/plain": [
       "<AxesSubplot:title={'center':'Total Number of Natural Disasters per Year'}, xlabel='year', ylabel='totals'>"
      ]
     },
     "execution_count": 111,
     "metadata": {},
     "output_type": "execute_result"
    },
    {
     "data": {
      "image/png": "[encoded data removed]",
      "text/plain": [
       "<Figure size 432x288 with 1 Axes>"
      ]
     },
     "metadata": {
      "needs_background": "light"
     },
     "output_type": "display_data"
    }
   ],
   "source": [
    "years = range(1953,2022)\n",
    "pdf['year'] = years\n",
    "#Removed due to incomplete data\n",
    "\n",
    "pdf.drop(pdf[pdf['year'] ==2021].index, inplace = True)\n",
    "pdf.drop(pdf[pdf['year'] ==2022].index, inplace = True)\n",
    "pdf.plot(x = 'year', y = 'totals', kind='scatter',title= 'Total Number of Natural Disasters per Year')"
   ]
  },
  {
   "cell_type": "code",
   "execution_count": 112,
   "id": "b4f6eff7",
   "metadata": {},
   "outputs": [
    {
     "name": "stdout",
     "output_type": "stream",
     "text": [
      "2.0855441462762907x -4080.256975989616 -> for 1951 < x < 2008 \n"
     ]
    },
    {
     "data": {
      "text/plain": [
       "[<matplotlib.lines.Line2D at 0x7fe07fb1d760>]"
      ]
     },
     "execution_count": 112,
     "metadata": {},
     "output_type": "execute_result"
    },
    {
     "data": {
      "image/png": "[encoded data removed]",
      "text/plain": [
       "<Figure size 432x288 with 1 Axes>"
      ]
     },
     "metadata": {
      "needs_background": "light"
     },
     "output_type": "display_data"
    }
   ],
   "source": [
    "from sklearn.linear_model import LinearRegression\n",
    "from sklearn.preprocessing import PolynomialFeatures\n",
    "from sklearn.pipeline import make_pipeline\n",
    "\n",
    "x = pdf['year'].values.reshape(-1, 1)\n",
    "y = pdf['totals'].values.reshape(-1, 1)\n",
    "reg = LinearRegression()\n",
    "reg.fit(x, y)\n",
    "y_pred = reg.predict(x)\n",
    "print (str(reg.coef_[0][0])+ 'x '+ str(reg.intercept_[0])+' -> for 1951 < x < 2008 ')\n",
    "plt.scatter(x,y)\n",
    "plt.plot(x, y_pred, color='red')"
   ]
  },
  {
   "cell_type": "markdown",
   "id": "e602be13",
   "metadata": {},
   "source": [
    "## Plotting Total number of Disaster Type by Year "
   ]
  },
  {
   "cell_type": "code",
   "execution_count": 113,
   "id": "6ae51d11",
   "metadata": {},
   "outputs": [
    {
     "data": {
      "image/png": "[encoded data removed]",
      "text/plain": [
       "<Figure size 432x288 with 1 Axes>"
      ]
     },
     "metadata": {
      "needs_background": "light"
     },
     "output_type": "display_data"
    },
    {
     "data": {
      "image/png": "[encoded data removed]",
      "text/plain": [
       "<Figure size 432x288 with 1 Axes>"
      ]
     },
     "metadata": {
      "needs_background": "light"
     },
     "output_type": "display_data"
    },
    {
     "data": {
      "image/png": "[encoded data removed]",
      "text/plain": [
       "<Figure size 432x288 with 1 Axes>"
      ]
     },
     "metadata": {
      "needs_background": "light"
     },
     "output_type": "display_data"
    },
    {
     "data": {
      "image/png": "[encoded data removed]",
      "text/plain": [
       "<Figure size 432x288 with 1 Axes>"
      ]
     },
     "metadata": {
      "needs_background": "light"
     },
     "output_type": "display_data"
    },
    {
     "data": {
      "image/png": "[encoded data removed]",
      "text/plain": [
       "<Figure size 432x288 with 1 Axes>"
      ]
     },
     "metadata": {
      "needs_background": "light"
     },
     "output_type": "display_data"
    },
    {
     "data": {
      "image/png": "[encoded data removed]",
      "text/plain": [
       "<Figure size 432x288 with 1 Axes>"
      ]
     },
     "metadata": {
      "needs_background": "light"
     },
     "output_type": "display_data"
    },
    {
     "data": {
      "image/png": "[encoded data removed]",
      "text/plain": [
       "<Figure size 432x288 with 1 Axes>"
      ]
     },
     "metadata": {
      "needs_background": "light"
     },
     "output_type": "display_data"
    },
    {
     "data": {
      "image/png": "[encoded data removed]",
      "text/plain": [
       "<Figure size 432x288 with 1 Axes>"
      ]
     },
     "metadata": {
      "needs_background": "light"
     },
     "output_type": "display_data"
    },
    {
     "data": {
      "image/png": "[encoded data removed]",
      "text/plain": [
       "<Figure size 432x288 with 1 Axes>"
      ]
     },
     "metadata": {
      "needs_background": "light"
     },
     "output_type": "display_data"
    },
    {
     "data": {
      "image/png": "[encoded data removed]",
      "text/plain": [
       "<Figure size 432x288 with 1 Axes>"
      ]
     },
     "metadata": {
      "needs_background": "light"
     },
     "output_type": "display_data"
    },
    {
     "data": {
      "image/png": "[encoded data removed]",
      "text/plain": [
       "<Figure size 432x288 with 1 Axes>"
      ]
     },
     "metadata": {
      "needs_background": "light"
     },
     "output_type": "display_data"
    },
    {
     "data": {
      "image/png": "[encoded data removed]",
      "text/plain": [
       "<Figure size 432x288 with 1 Axes>"
      ]
     },
     "metadata": {
      "needs_background": "light"
     },
     "output_type": "display_data"
    },
    {
     "data": {
      "image/png": "[encoded data removed]",
      "text/plain": [
       "<Figure size 432x288 with 1 Axes>"
      ]
     },
     "metadata": {
      "needs_background": "light"
     },
     "output_type": "display_data"
    },
    {
     "data": {
      "image/png": "[encoded data removed]",
      "text/plain": [
       "<Figure size 432x288 with 1 Axes>"
      ]
     },
     "metadata": {
      "needs_background": "light"
     },
     "output_type": "display_data"
    }
   ],
   "source": [
    "\n",
    "for elem in pdf:\n",
    "    if elem != 'totals' and elem != 'year':\n",
    "        x = pdf['year'].values.reshape(-1, 1)\n",
    "        y = pdf[elem].values.reshape(-1, 1)\n",
    "        degree = 9\n",
    "        reg=make_pipeline(PolynomialFeatures(degree),LinearRegression())\n",
    "        reg.fit(x, y)\n",
    "        y_pred = reg.predict(x)\n",
    "        plt.title(elem)\n",
    "        plt.scatter(x,y)\n",
    "        plt.plot(x, y_pred, color='red')\n",
    "        plt.show()\n",
    "\n"
   ]
  },
  {
   "cell_type": "markdown",
   "id": "844a5f0f",
   "metadata": {},
   "source": [
    "## Analysis of Graphs"
   ]
  },
  {
   "cell_type": "code",
   "execution_count": null,
   "id": "3c1d0c5d",
   "metadata": {},
   "outputs": [],
   "source": []
  },
  {
   "cell_type": "code",
   "execution_count": null,
   "id": "05df2fe1",
   "metadata": {},
   "outputs": [],
   "source": []
  }
 ],
 "metadata": {
  "kernelspec": {
   "display_name": "Python 3",
   "language": "python",
   "name": "python3"
  },
  "language_info": {
   "codemirror_mode": {
    "name": "ipython",
    "version": 3
   },
   "file_extension": ".py",
   "mimetype": "text/x-python",
   "name": "python",
   "nbconvert_exporter": "python",
   "pygments_lexer": "ipython3",
   "version": "3.8.8"
  }
 },
 "nbformat": 4,
 "nbformat_minor": 5
}
