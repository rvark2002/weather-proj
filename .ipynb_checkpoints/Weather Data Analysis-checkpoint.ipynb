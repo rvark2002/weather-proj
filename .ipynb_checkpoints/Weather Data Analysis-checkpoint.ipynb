{
 "cells": [
  {
   "cell_type": "markdown",
   "id": "5e24703b",
   "metadata": {},
   "source": [
    "# Analysis of Natural Disasters in US over Time"
   ]
  },
  {
   "cell_type": "markdown",
   "id": "b546cb7d",
   "metadata": {},
   "source": [
    "## Ritvik Varkhedkar and Thomas ..."
   ]
  },
  {
   "cell_type": "markdown",
   "id": "bcc58ccf",
   "metadata": {},
   "source": [
    "## Introduction"
   ]
  },
  {
   "cell_type": "markdown",
   "id": "301be14c",
   "metadata": {},
   "source": []
  },
  {
   "cell_type": "markdown",
   "id": "77af6ab8",
   "metadata": {},
   "source": [
    "## Required Libraries"
   ]
  },
  {
   "cell_type": "code",
   "execution_count": null,
   "id": "5dea29bd",
   "metadata": {},
   "outputs": [],
   "source": []
  },
  {
   "cell_type": "markdown",
   "id": "b003d887",
   "metadata": {},
   "source": [
    "## Gathering the Data"
   ]
  },
  {
   "cell_type": "code",
   "execution_count": null,
   "id": "d0870cd4",
   "metadata": {},
   "outputs": [],
   "source": []
  },
  {
   "cell_type": "markdown",
   "id": "5aa2c01e",
   "metadata": {},
   "source": [
    "## Charting Natural Disasters in a/the State/Region/US over time"
   ]
  },
  {
   "cell_type": "code",
   "execution_count": null,
   "id": "d238978a",
   "metadata": {},
   "outputs": [],
   "source": []
  },
  {
   "cell_type": "markdown",
   "id": "4af2549e",
   "metadata": {},
   "source": [
    "## Regression line of Disasters over time"
   ]
  },
  {
   "cell_type": "code",
   "execution_count": null,
   "id": "c9257275",
   "metadata": {},
   "outputs": [],
   "source": []
  },
  {
   "cell_type": "markdown",
   "id": "8222e4c5",
   "metadata": {},
   "source": [
    "## Mapping Natural Disasters on an Interactive Map"
   ]
  },
  {
   "cell_type": "code",
   "execution_count": null,
   "id": "8fc716e4",
   "metadata": {},
   "outputs": [],
   "source": []
  },
  {
   "cell_type": "markdown",
   "id": "7c3b0168",
   "metadata": {},
   "source": [
    "## Dividing states into regions and analyzing individual regions to look for patterns"
   ]
  },
  {
   "cell_type": "code",
   "execution_count": null,
   "id": "bf96fda3",
   "metadata": {},
   "outputs": [],
   "source": []
  },
  {
   "cell_type": "markdown",
   "id": "07e7e10d",
   "metadata": {},
   "source": [
    "## Conclusions\n"
   ]
  },
  {
   "cell_type": "code",
   "execution_count": null,
   "id": "65c01c4a",
   "metadata": {},
   "outputs": [],
   "source": []
  },
  {
   "cell_type": "markdown",
   "id": "c325220c",
   "metadata": {},
   "source": [
    "## Sources"
   ]
  },
  {
   "cell_type": "code",
   "execution_count": null,
   "id": "40c8d097",
   "metadata": {},
   "outputs": [],
   "source": []
  }
 ],
 "metadata": {
  "kernelspec": {
   "display_name": "Python 3",
   "language": "python",
   "name": "python3"
  },
  "language_info": {
   "codemirror_mode": {
    "name": "ipython",
    "version": 3
   },
   "file_extension": ".py",
   "mimetype": "text/x-python",
   "name": "python",
   "nbconvert_exporter": "python",
   "pygments_lexer": "ipython3",
   "version": "3.8.8"
  }
 },
 "nbformat": 4,
 "nbformat_minor": 5
}
