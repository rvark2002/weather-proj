{
 "cells": [
  {
   "cell_type": "markdown",
   "id": "b6b9fbc9",
   "metadata": {},
   "source": [
    "# Analysis of Natural Disasters in US over Time"
   ]
  },
  {
   "cell_type": "markdown",
   "id": "71648292",
   "metadata": {},
   "source": [
    "## Ritvik Varkhedkar and Thomas Klaus"
   ]
  },
  {
   "cell_type": "markdown",
   "id": "ff6ee783",
   "metadata": {},
   "source": [
    "## Introduction"
   ]
  },
  {
   "cell_type": "markdown",
   "id": "bc25e940",
   "metadata": {},
   "source": []
  },
  {
   "cell_type": "markdown",
   "id": "758dfcff",
   "metadata": {},
   "source": [
    "## Required Libraries"
   ]
  },
  {
   "cell_type": "code",
   "execution_count": null,
   "id": "83cccb59",
   "metadata": {},
   "outputs": [],
   "source": [
    "# Imports\n",
    "import requests\n",
    "import sqlite3\n",
    "import pandas as pd\n",
    "import numpy as np\n",
    "import matplotlib.pyplot as plt"
   ]
  },
  {
   "cell_type": "markdown",
   "id": "b95a963c",
   "metadata": {},
   "source": [
    "## Gathering the Data"
   ]
  },
  {
   "cell_type": "code",
   "execution_count": null,
   "id": "58d8f5ac",
   "metadata": {},
   "outputs": [],
   "source": [
    "df = pd.read_csv(\"us_disaster_declarations.csv\")\n",
    "df.head()"
   ]
  },
  {
   "cell_type": "markdown",
   "id": "aa8792e7",
   "metadata": {},
   "source": [
    "## Charting Natural Disasters in a/the State/Region/US over time"
   ]
  },
  {
   "cell_type": "code",
   "execution_count": null,
   "id": "5d2ba085",
   "metadata": {},
   "outputs": [],
   "source": []
  },
  {
   "cell_type": "markdown",
   "id": "b4552186",
   "metadata": {},
   "source": [
    "## Regression line of Disasters over time"
   ]
  },
  {
   "cell_type": "code",
   "execution_count": null,
   "id": "fce49962",
   "metadata": {},
   "outputs": [],
   "source": []
  },
  {
   "cell_type": "markdown",
   "id": "126f1adb",
   "metadata": {},
   "source": [
    "## Mapping Natural Disasters on an Interactive Map"
   ]
  },
  {
   "cell_type": "code",
   "execution_count": null,
   "id": "ea329b27",
   "metadata": {},
   "outputs": [],
   "source": []
  },
  {
   "cell_type": "markdown",
   "id": "54430833",
   "metadata": {},
   "source": [
    "## Dividing states into regions and analyzing individual regions to look for patterns"
   ]
  },
  {
   "cell_type": "code",
   "execution_count": null,
   "id": "5b733d78",
   "metadata": {},
   "outputs": [],
   "source": []
  },
  {
   "cell_type": "markdown",
   "id": "b398a42b",
   "metadata": {},
   "source": [
    "## Conclusions\n"
   ]
  },
  {
   "cell_type": "code",
   "execution_count": null,
   "id": "09d3cf09",
   "metadata": {},
   "outputs": [],
   "source": []
  },
  {
   "cell_type": "markdown",
   "id": "a2ed00d4",
   "metadata": {},
   "source": [
    "## Sources"
   ]
  },
  {
   "cell_type": "code",
   "execution_count": null,
   "id": "5704d627",
   "metadata": {},
   "outputs": [],
   "source": []
  }
 ],
 "metadata": {
  "kernelspec": {
   "display_name": "Python 3",
   "language": "python",
   "name": "python3"
  },
  "language_info": {
   "codemirror_mode": {
    "name": "ipython",
    "version": 3
   },
   "file_extension": ".py",
   "mimetype": "text/x-python",
   "name": "python",
   "nbconvert_exporter": "python",
   "pygments_lexer": "ipython3",
   "version": "3.8.8"
  }
 },
 "nbformat": 4,
 "nbformat_minor": 5
}
